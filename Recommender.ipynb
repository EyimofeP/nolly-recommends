{
 "cells": [
  {
   "cell_type": "code",
   "execution_count": 1,
   "metadata": {},
   "outputs": [],
   "source": [
    "import pandas as pd\n",
    "from sklearn.feature_extraction.text import TfidfVectorizer\n",
    "from sklearn.metrics.pairwise import sigmoid_kernel"
   ]
  },
  {
   "cell_type": "code",
   "execution_count": 2,
   "metadata": {},
   "outputs": [],
   "source": [
    "movies = pd.read_csv(\"data/movies.csv\").sample(frac=1, random_state=51)"
   ]
  },
  {
   "cell_type": "code",
   "execution_count": 3,
   "metadata": {},
   "outputs": [
    {
     "data": {
      "text/html": [
       "<div>\n",
       "<style scoped>\n",
       "    .dataframe tbody tr th:only-of-type {\n",
       "        vertical-align: middle;\n",
       "    }\n",
       "\n",
       "    .dataframe tbody tr th {\n",
       "        vertical-align: top;\n",
       "    }\n",
       "\n",
       "    .dataframe thead th {\n",
       "        text-align: right;\n",
       "    }\n",
       "</style>\n",
       "<table border=\"1\" class=\"dataframe\">\n",
       "  <thead>\n",
       "    <tr style=\"text-align: right;\">\n",
       "      <th></th>\n",
       "      <th>Title</th>\n",
       "      <th>Director</th>\n",
       "      <th>Cast</th>\n",
       "      <th>Genre</th>\n",
       "      <th>Combined</th>\n",
       "    </tr>\n",
       "  </thead>\n",
       "  <tbody>\n",
       "    <tr>\n",
       "      <th>59</th>\n",
       "      <td>Kakanfo</td>\n",
       "      <td>David Dida Tella</td>\n",
       "      <td>Bimbo Oshin Antar Laniyan Dele Odule</td>\n",
       "      <td>Adventure Drama</td>\n",
       "      <td>Bimbo Oshin Antar Laniyan Dele Odule David Did...</td>\n",
       "    </tr>\n",
       "    <tr>\n",
       "      <th>64</th>\n",
       "      <td>Citation</td>\n",
       "      <td>Kunle Afolayan</td>\n",
       "      <td>Temi Otedola Jimmy Jean-Lewis Kunle Afolayan J...</td>\n",
       "      <td>Drama Thriller</td>\n",
       "      <td>Temi Otedola Jimmy Jean-Lewis Kunle Afolayan J...</td>\n",
       "    </tr>\n",
       "    <tr>\n",
       "      <th>123</th>\n",
       "      <td>King of Thieves (Ogundabede)</td>\n",
       "      <td>Adebayo Tijani and Tope Adebayo Salami</td>\n",
       "      <td>Toyin Abraham Femi Adebayo Salami Odunlade Ade...</td>\n",
       "      <td>Drama</td>\n",
       "      <td>Toyin Abraham Femi Adebayo Salami Odunlade Ade...</td>\n",
       "    </tr>\n",
       "    <tr>\n",
       "      <th>99</th>\n",
       "      <td>Mimi</td>\n",
       "      <td>Samuel Olatunji</td>\n",
       "      <td>Ali Baba Ireti Doyle Toyin Abraham Prince Jide...</td>\n",
       "      <td>Romance Comedy</td>\n",
       "      <td>Ali Baba Ireti Doyle Toyin Abraham Prince Jide...</td>\n",
       "    </tr>\n",
       "    <tr>\n",
       "      <th>58</th>\n",
       "      <td>Fate of Alakada: The Party Planner</td>\n",
       "      <td>Kayode Kasum</td>\n",
       "      <td>Toyin Abraham Mercy Eke Broda Shaggi</td>\n",
       "      <td>Action Comedy</td>\n",
       "      <td>Toyin Abraham Mercy Eke Broda Shaggi Kayode Ka...</td>\n",
       "    </tr>\n",
       "  </tbody>\n",
       "</table>\n",
       "</div>"
      ],
      "text/plain": [
       "                                  Title  \\\n",
       "59                              Kakanfo   \n",
       "64                             Citation   \n",
       "123        King of Thieves (Ogundabede)   \n",
       "99                                 Mimi   \n",
       "58   Fate of Alakada: The Party Planner   \n",
       "\n",
       "                                   Director  \\\n",
       "59                         David Dida Tella   \n",
       "64                           Kunle Afolayan   \n",
       "123  Adebayo Tijani and Tope Adebayo Salami   \n",
       "99                          Samuel Olatunji   \n",
       "58                             Kayode Kasum   \n",
       "\n",
       "                                                  Cast            Genre  \\\n",
       "59                Bimbo Oshin Antar Laniyan Dele Odule  Adventure Drama   \n",
       "64   Temi Otedola Jimmy Jean-Lewis Kunle Afolayan J...   Drama Thriller   \n",
       "123  Toyin Abraham Femi Adebayo Salami Odunlade Ade...            Drama   \n",
       "99   Ali Baba Ireti Doyle Toyin Abraham Prince Jide...   Romance Comedy   \n",
       "58                Toyin Abraham Mercy Eke Broda Shaggi    Action Comedy   \n",
       "\n",
       "                                              Combined  \n",
       "59   Bimbo Oshin Antar Laniyan Dele Odule David Did...  \n",
       "64   Temi Otedola Jimmy Jean-Lewis Kunle Afolayan J...  \n",
       "123  Toyin Abraham Femi Adebayo Salami Odunlade Ade...  \n",
       "99   Ali Baba Ireti Doyle Toyin Abraham Prince Jide...  \n",
       "58   Toyin Abraham Mercy Eke Broda Shaggi Kayode Ka...  "
      ]
     },
     "execution_count": 3,
     "metadata": {},
     "output_type": "execute_result"
    }
   ],
   "source": [
    "movies.head()"
   ]
  },
  {
   "cell_type": "code",
   "execution_count": 4,
   "metadata": {},
   "outputs": [],
   "source": [
    "tfv = TfidfVectorizer(min_df=3, strip_accents=\"unicode\", analyzer=\"word\", ngram_range=(1, 3), stop_words=\"english\")"
   ]
  },
  {
   "cell_type": "code",
   "execution_count": 5,
   "metadata": {},
   "outputs": [],
   "source": [
    "count_matrix = tfv.fit_transform(movies['Combined'])"
   ]
  },
  {
   "cell_type": "code",
   "execution_count": 6,
   "metadata": {},
   "outputs": [],
   "source": [
    "similarity = sigmoid_kernel(count_matrix, count_matrix)"
   ]
  },
  {
   "cell_type": "code",
   "execution_count": 7,
   "metadata": {},
   "outputs": [
    {
     "data": {
      "text/plain": [
       "['similarity_jobllib']"
      ]
     },
     "execution_count": 7,
     "metadata": {},
     "output_type": "execute_result"
    }
   ],
   "source": [
    "import joblib\n",
    "joblib.dump(similarity, \"similarity_joblib\")"
   ]
  },
  {
   "cell_type": "code",
   "execution_count": 11,
   "metadata": {},
   "outputs": [],
   "source": [
    "def recommend(title):\n",
    "    index = movies.loc[movies[\"Title\"] == title].index[0]\n",
    "    similiar_movies = list(enumerate(similarity[index]))\n",
    "    similiar_movies_index = sorted(similiar_movies, key=lambda x:x[1], reverse=True)\n",
    "    movies_index = similiar_movies_index[1:11]\n",
    "    \n",
    "    movie = []\n",
    "    for i in range(len(movies_index)):\n",
    "        movie_name = movies_index[i][0]\n",
    "        movie.append(movies[\"Title\"][movie_name])\n",
    "    return movie"
   ]
  },
  {
   "cell_type": "code",
   "execution_count": 12,
   "metadata": {},
   "outputs": [],
   "source": [
    "def recommend(title):\n",
    "    index = movies.loc[movies[\"Title\"] == title].index[0]\n",
    "    similiar_movies = list(enumerate(similarity[index]))\n",
    "    similiar_movies_index = sorted(similiar_movies, key=lambda x:x[1], reverse=True)\n",
    "    movies_index = similiar_movies_index[1:11]\n",
    "\n",
    "\n",
    "    movie = []\n",
    "    poster = []\n",
    "    for i in range(len(movies_index)):\n",
    "        movie_name = movies_index[i][0]\n",
    "        name = movies[\"Title\"][movie_name]\n",
    "        from tmdbv3api import Movie, TMDb\n",
    "        tmdb = TMDb()\n",
    "        tmdb.api_key = 'API HERE'\n",
    "        tmdb_movie = Movie()\n",
    "        try:\n",
    "            result = tmdb_movie.search(name)\n",
    "            movie_id = result[0].id\n",
    "        except:\n",
    "            movie_id = None\n",
    "        movie.append(movies[\"Title\"][movie_name])\n",
    "        poster.append(movie_id)\n",
    "    return movie, poster"
   ]
  },
  {
   "cell_type": "code",
   "execution_count": 13,
   "metadata": {},
   "outputs": [],
   "source": [
    "test = recommend(\"Quam's Money\")"
   ]
  },
  {
   "cell_type": "code",
   "execution_count": 14,
   "metadata": {},
   "outputs": [
    {
     "data": {
      "text/plain": [
       "(['Nneka the pretty serpent',\n",
       "  'The Cock-Tale',\n",
       "  'Chief Daddy',\n",
       "  'King of Boys',\n",
       "  'Rattlesnake: The Ahanna story',\n",
       "  'Bling Lagosians',\n",
       "  'Obey',\n",
       "  'Prophetess',\n",
       "  'Sylvia',\n",
       "  'The Ghost and the Tout Too'],\n",
       " [862280, None, 922017, 570465, 800415, 638691, 18002, 817203, 28200, 1004252])"
      ]
     },
     "execution_count": 14,
     "metadata": {},
     "output_type": "execute_result"
    }
   ],
   "source": [
    "test"
   ]
  }
 ],
 "metadata": {
  "kernelspec": {
   "display_name": "Python 3.9.13 ('recommender')",
   "language": "python",
   "name": "python3"
  },
  "language_info": {
   "codemirror_mode": {
    "name": "ipython",
    "version": 3
   },
   "file_extension": ".py",
   "mimetype": "text/x-python",
   "name": "python",
   "nbconvert_exporter": "python",
   "pygments_lexer": "ipython3",
   "version": "3.9.13"
  },
  "orig_nbformat": 4,
  "vscode": {
   "interpreter": {
    "hash": "208b16550b644a5530954bf7c0d8c8c62008b571b31d5f48cf795b3e42848df2"
   }
  }
 },
 "nbformat": 4,
 "nbformat_minor": 2
}
